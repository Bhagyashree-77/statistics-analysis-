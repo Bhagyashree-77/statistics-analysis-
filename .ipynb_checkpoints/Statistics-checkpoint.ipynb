{
 "cells": [
  {
   "cell_type": "code",
   "execution_count": 2,
   "id": "a58499a8",
   "metadata": {},
   "outputs": [],
   "source": [
    "import numpy as np\n",
    "import pandas as pd"
   ]
  },
  {
   "cell_type": "code",
   "execution_count": 3,
   "id": "834f5ff6-30dc-4550-b15c-9b35b33eac55",
   "metadata": {},
   "outputs": [
    {
     "name": "stdout",
     "output_type": "stream",
     "text": [
      "Mean 48.54545454545455\n"
     ]
    }
   ],
   "source": [
    "data=[12,54,23,22,66,23,45,78,79,34,98]\n",
    "print('Mean',np.mean(data))"
   ]
  },
  {
   "cell_type": "code",
   "execution_count": 4,
   "id": "9d59028e-d76d-4022-bf05-4dff953bd500",
   "metadata": {},
   "outputs": [
    {
     "name": "stdout",
     "output_type": "stream",
     "text": [
      "Median: 45.0\n"
     ]
    }
   ],
   "source": [
    "print('Median:',np.median(data))\n"
   ]
  },
  {
   "cell_type": "code",
   "execution_count": 8,
   "id": "fd662f81-f529-4a0b-a9c9-0ae7d3e3d5e5",
   "metadata": {},
   "outputs": [
    {
     "name": "stdout",
     "output_type": "stream",
     "text": [
      "Mode: 0    12\n",
      "dtype: int64\n"
     ]
    }
   ],
   "source": [
    "data=[12,54,23,12,12,12,12,23,45,78,79,34,98]\n",
    "data1=pd.Series([12,54,23,12,12,12,12,23,45,78,79,34,98])\n",
    "print('Mode:',data1.mode())"
   ]
  },
  {
   "cell_type": "code",
   "execution_count": 9,
   "id": "22aba00f-444e-495d-81c9-406c16c74bdf",
   "metadata": {},
   "outputs": [
    {
     "name": "stdout",
     "output_type": "stream",
     "text": [
      "Q1: 12.0\n"
     ]
    }
   ],
   "source": [
    "#FIRST QUANTILE\n",
    "print('Q1:' ,data1.quantile(0.25))"
   ]
  },
  {
   "cell_type": "code",
   "execution_count": 12,
   "id": "24958a00-9bae-4ab3-90f2-78ba6d91423c",
   "metadata": {},
   "outputs": [
    {
     "name": "stdout",
     "output_type": "stream",
     "text": [
      "Q2: 23.0\n"
     ]
    }
   ],
   "source": [
    "#SECOND QUANTILE\n",
    "print('Q2:',data1.quantile(0.5))"
   ]
  },
  {
   "cell_type": "code",
   "execution_count": 13,
   "id": "7bf066b9-bcfc-4bc9-acbe-8e0f6e47e013",
   "metadata": {},
   "outputs": [
    {
     "name": "stdout",
     "output_type": "stream",
     "text": [
      "Q3 54.0\n"
     ]
    }
   ],
   "source": [
    "#THIRD QUANTILE \n",
    "print('Q3' ,data1.quantile(0.75))"
   ]
  },
  {
   "cell_type": "markdown",
   "id": "530f58d1-4166-4473-895a-3677af9faf0d",
   "metadata": {},
   "source": [
    "IQR VALUE"
   ]
  },
  {
   "cell_type": "code",
   "execution_count": 17,
   "id": "c21c0a14-7925-42d7-a280-d6084f2ce2c2",
   "metadata": {},
   "outputs": [],
   "source": [
    "q1=data1.quantile(0.25)\n",
    "q3=data1.quantile(0.75)"
   ]
  },
  {
   "cell_type": "code",
   "execution_count": 19,
   "id": "8d7eb679-20e1-40ff-8ab2-3e9bf2944a7e",
   "metadata": {},
   "outputs": [
    {
     "data": {
      "text/plain": [
       "42.0"
      ]
     },
     "execution_count": 19,
     "metadata": {},
     "output_type": "execute_result"
    }
   ],
   "source": [
    "IQR=q3-q1\n",
    "IQR"
   ]
  },
  {
   "cell_type": "code",
   "execution_count": 20,
   "id": "250010b6-086a-4e17-84c3-753804a89d9a",
   "metadata": {},
   "outputs": [],
   "source": [
    "Max_range=q3+1.5*IQR\n",
    "Min_range=q1-1.5*IQR"
   ]
  },
  {
   "cell_type": "code",
   "execution_count": 21,
   "id": "fe776b26-1635-4a33-aa67-019ca7a3c277",
   "metadata": {},
   "outputs": [
    {
     "data": {
      "text/plain": [
       "-51.0"
      ]
     },
     "execution_count": 21,
     "metadata": {},
     "output_type": "execute_result"
    }
   ],
   "source": [
    "Min_range"
   ]
  },
  {
   "cell_type": "code",
   "execution_count": 22,
   "id": "b5e4aa43-64ee-482b-bf85-9e2fd1c11689",
   "metadata": {},
   "outputs": [
    {
     "data": {
      "text/plain": [
       "117.0"
      ]
     },
     "execution_count": 22,
     "metadata": {},
     "output_type": "execute_result"
    }
   ],
   "source": [
    "Max_range"
   ]
  },
  {
   "cell_type": "markdown",
   "id": "2b18b8e3-9c80-42b2-b074-fb4b33c2b17e",
   "metadata": {},
   "source": [
    "RANGE\n"
   ]
  },
  {
   "cell_type": "code",
   "execution_count": 14,
   "id": "e4b84228-8753-4de0-b83e-468dd31f1db0",
   "metadata": {},
   "outputs": [
    {
     "name": "stdout",
     "output_type": "stream",
     "text": [
      "Range:  86\n"
     ]
    }
   ],
   "source": [
    "print('Range: ', data1.max()-data1.min())"
   ]
  },
  {
   "cell_type": "markdown",
   "id": "c91327c4-38c2-4b59-b775-929b3ad11f89",
   "metadata": {},
   "source": [
    "VARIANCE"
   ]
  },
  {
   "cell_type": "code",
   "execution_count": 15,
   "id": "9ddd66b6-11f4-43ee-a4d8-b454c0aef9c2",
   "metadata": {},
   "outputs": [
    {
     "name": "stdout",
     "output_type": "stream",
     "text": [
      "Variance : 848.6153846153846\n"
     ]
    }
   ],
   "source": [
    "print('Variance :',np.var(data1))"
   ]
  },
  {
   "cell_type": "markdown",
   "id": "1de7aa31-df22-4ba7-b181-860a20ef78ac",
   "metadata": {},
   "source": [
    "STANDARD DEVIATION"
   ]
  },
  {
   "cell_type": "code",
   "execution_count": 16,
   "id": "42c38501-98f2-43c2-afad-8d8a18b95cc6",
   "metadata": {},
   "outputs": [
    {
     "name": "stdout",
     "output_type": "stream",
     "text": [
      "Standard Deviation : 29.13100383809979\n"
     ]
    }
   ],
   "source": [
    "print('Standard Deviation :',np.std(data1))"
   ]
  },
  {
   "cell_type": "code",
   "execution_count": null,
   "id": "016fbd61-dd7c-4f21-9bcd-701e8e1d7b9a",
   "metadata": {},
   "outputs": [],
   "source": []
  }
 ],
 "metadata": {
  "kernelspec": {
   "display_name": "Python 3 (ipykernel)",
   "language": "python",
   "name": "python3"
  },
  "language_info": {
   "codemirror_mode": {
    "name": "ipython",
    "version": 3
   },
   "file_extension": ".py",
   "mimetype": "text/x-python",
   "name": "python",
   "nbconvert_exporter": "python",
   "pygments_lexer": "ipython3",
   "version": "3.11.5"
  }
 },
 "nbformat": 4,
 "nbformat_minor": 5
}
